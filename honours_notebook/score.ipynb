{
  "cells": [
    {
      "cell_type": "code",
      "execution_count": null,
      "metadata": {
        "id": "aD___K90rfdk",
        "outputId": "526d96f0-71d3-4b4c-b3f3-1d6875785872"
      },
      "outputs": [
        {
          "name": "stdout",
          "output_type": "stream",
          "text": [
            "Requirement already satisfied: tensorflow in c:\\users\\maitri\\appdata\\local\\programs\\python\\python312\\lib\\site-packages (2.16.2)\n",
            "Requirement already satisfied: tensorflow-intel==2.16.2 in c:\\users\\maitri\\appdata\\local\\programs\\python\\python312\\lib\\site-packages (from tensorflow) (2.16.2)\n",
            "Requirement already satisfied: absl-py>=1.0.0 in c:\\users\\maitri\\appdata\\local\\programs\\python\\python312\\lib\\site-packages (from tensorflow-intel==2.16.2->tensorflow) (2.1.0)\n",
            "Requirement already satisfied: astunparse>=1.6.0 in c:\\users\\maitri\\appdata\\local\\programs\\python\\python312\\lib\\site-packages (from tensorflow-intel==2.16.2->tensorflow) (1.6.3)\n",
            "Requirement already satisfied: flatbuffers>=23.5.26 in c:\\users\\maitri\\appdata\\local\\programs\\python\\python312\\lib\\site-packages (from tensorflow-intel==2.16.2->tensorflow) (24.3.25)\n",
            "Requirement already satisfied: gast!=0.5.0,!=0.5.1,!=0.5.2,>=0.2.1 in c:\\users\\maitri\\appdata\\local\\programs\\python\\python312\\lib\\site-packages (from tensorflow-intel==2.16.2->tensorflow) (0.5.4)\n",
            "Requirement already satisfied: google-pasta>=0.1.1 in c:\\users\\maitri\\appdata\\local\\programs\\python\\python312\\lib\\site-packages (from tensorflow-intel==2.16.2->tensorflow) (0.2.0)\n",
            "Requirement already satisfied: h5py>=3.10.0 in c:\\users\\maitri\\appdata\\local\\programs\\python\\python312\\lib\\site-packages (from tensorflow-intel==2.16.2->tensorflow) (3.11.0)\n",
            "Requirement already satisfied: libclang>=13.0.0 in c:\\users\\maitri\\appdata\\local\\programs\\python\\python312\\lib\\site-packages (from tensorflow-intel==2.16.2->tensorflow) (18.1.1)\n",
            "Requirement already satisfied: ml-dtypes~=0.3.1 in c:\\users\\maitri\\appdata\\local\\programs\\python\\python312\\lib\\site-packages (from tensorflow-intel==2.16.2->tensorflow) (0.3.2)\n",
            "Requirement already satisfied: opt-einsum>=2.3.2 in c:\\users\\maitri\\appdata\\local\\programs\\python\\python312\\lib\\site-packages (from tensorflow-intel==2.16.2->tensorflow) (3.3.0)\n",
            "Requirement already satisfied: packaging in c:\\users\\maitri\\appdata\\local\\programs\\python\\python312\\lib\\site-packages (from tensorflow-intel==2.16.2->tensorflow) (24.0)\n",
            "Requirement already satisfied: protobuf!=4.21.0,!=4.21.1,!=4.21.2,!=4.21.3,!=4.21.4,!=4.21.5,<5.0.0dev,>=3.20.3 in c:\\users\\maitri\\appdata\\local\\programs\\python\\python312\\lib\\site-packages (from tensorflow-intel==2.16.2->tensorflow) (4.25.3)\n",
            "Requirement already satisfied: requests<3,>=2.21.0 in c:\\users\\maitri\\appdata\\local\\programs\\python\\python312\\lib\\site-packages (from tensorflow-intel==2.16.2->tensorflow) (2.32.1)\n",
            "Requirement already satisfied: setuptools in c:\\users\\maitri\\appdata\\local\\programs\\python\\python312\\lib\\site-packages (from tensorflow-intel==2.16.2->tensorflow) (70.0.0)\n",
            "Requirement already satisfied: six>=1.12.0 in c:\\users\\maitri\\appdata\\local\\programs\\python\\python312\\lib\\site-packages (from tensorflow-intel==2.16.2->tensorflow) (1.16.0)\n",
            "Requirement already satisfied: termcolor>=1.1.0 in c:\\users\\maitri\\appdata\\local\\programs\\python\\python312\\lib\\site-packages (from tensorflow-intel==2.16.2->tensorflow) (2.4.0)\n",
            "Requirement already satisfied: typing-extensions>=3.6.6 in c:\\users\\maitri\\appdata\\local\\programs\\python\\python312\\lib\\site-packages (from tensorflow-intel==2.16.2->tensorflow) (4.11.0)\n",
            "Requirement already satisfied: wrapt>=1.11.0 in c:\\users\\maitri\\appdata\\local\\programs\\python\\python312\\lib\\site-packages (from tensorflow-intel==2.16.2->tensorflow) (1.16.0)\n",
            "Requirement already satisfied: grpcio<2.0,>=1.24.3 in c:\\users\\maitri\\appdata\\local\\programs\\python\\python312\\lib\\site-packages (from tensorflow-intel==2.16.2->tensorflow) (1.64.0)\n",
            "Requirement already satisfied: tensorboard<2.17,>=2.16 in c:\\users\\maitri\\appdata\\local\\programs\\python\\python312\\lib\\site-packages (from tensorflow-intel==2.16.2->tensorflow) (2.16.2)\n",
            "Requirement already satisfied: keras>=3.0.0 in c:\\users\\maitri\\appdata\\local\\programs\\python\\python312\\lib\\site-packages (from tensorflow-intel==2.16.2->tensorflow) (3.3.3)\n",
            "Requirement already satisfied: numpy<2.0.0,>=1.26.0 in c:\\users\\maitri\\appdata\\local\\programs\\python\\python312\\lib\\site-packages (from tensorflow-intel==2.16.2->tensorflow) (1.26.4)\n",
            "Requirement already satisfied: wheel<1.0,>=0.23.0 in c:\\users\\maitri\\appdata\\local\\programs\\python\\python312\\lib\\site-packages (from astunparse>=1.6.0->tensorflow-intel==2.16.2->tensorflow) (0.43.0)\n",
            "Requirement already satisfied: rich in c:\\users\\maitri\\appdata\\local\\programs\\python\\python312\\lib\\site-packages (from keras>=3.0.0->tensorflow-intel==2.16.2->tensorflow) (13.7.1)\n",
            "Requirement already satisfied: namex in c:\\users\\maitri\\appdata\\local\\programs\\python\\python312\\lib\\site-packages (from keras>=3.0.0->tensorflow-intel==2.16.2->tensorflow) (0.0.8)\n",
            "Requirement already satisfied: optree in c:\\users\\maitri\\appdata\\local\\programs\\python\\python312\\lib\\site-packages (from keras>=3.0.0->tensorflow-intel==2.16.2->tensorflow) (0.11.0)\n",
            "Requirement already satisfied: charset-normalizer<4,>=2 in c:\\users\\maitri\\appdata\\local\\programs\\python\\python312\\lib\\site-packages (from requests<3,>=2.21.0->tensorflow-intel==2.16.2->tensorflow) (3.3.2)\n",
            "Requirement already satisfied: idna<4,>=2.5 in c:\\users\\maitri\\appdata\\local\\programs\\python\\python312\\lib\\site-packages (from requests<3,>=2.21.0->tensorflow-intel==2.16.2->tensorflow) (3.7)\n",
            "Requirement already satisfied: urllib3<3,>=1.21.1 in c:\\users\\maitri\\appdata\\local\\programs\\python\\python312\\lib\\site-packages (from requests<3,>=2.21.0->tensorflow-intel==2.16.2->tensorflow) (2.2.1)\n",
            "Requirement already satisfied: certifi>=2017.4.17 in c:\\users\\maitri\\appdata\\local\\programs\\python\\python312\\lib\\site-packages (from requests<3,>=2.21.0->tensorflow-intel==2.16.2->tensorflow) (2024.2.2)\n",
            "Requirement already satisfied: markdown>=2.6.8 in c:\\users\\maitri\\appdata\\local\\programs\\python\\python312\\lib\\site-packages (from tensorboard<2.17,>=2.16->tensorflow-intel==2.16.2->tensorflow) (3.6)\n",
            "Requirement already satisfied: tensorboard-data-server<0.8.0,>=0.7.0 in c:\\users\\maitri\\appdata\\local\\programs\\python\\python312\\lib\\site-packages (from tensorboard<2.17,>=2.16->tensorflow-intel==2.16.2->tensorflow) (0.7.2)\n",
            "Requirement already satisfied: werkzeug>=1.0.1 in c:\\users\\maitri\\appdata\\local\\programs\\python\\python312\\lib\\site-packages (from tensorboard<2.17,>=2.16->tensorflow-intel==2.16.2->tensorflow) (3.0.3)\n",
            "Requirement already satisfied: MarkupSafe>=2.1.1 in c:\\users\\maitri\\appdata\\local\\programs\\python\\python312\\lib\\site-packages (from werkzeug>=1.0.1->tensorboard<2.17,>=2.16->tensorflow-intel==2.16.2->tensorflow) (2.1.5)\n",
            "Requirement already satisfied: markdown-it-py>=2.2.0 in c:\\users\\maitri\\appdata\\local\\programs\\python\\python312\\lib\\site-packages (from rich->keras>=3.0.0->tensorflow-intel==2.16.2->tensorflow) (3.0.0)\n",
            "Requirement already satisfied: pygments<3.0.0,>=2.13.0 in c:\\users\\maitri\\appdata\\local\\programs\\python\\python312\\lib\\site-packages (from rich->keras>=3.0.0->tensorflow-intel==2.16.2->tensorflow) (2.18.0)\n",
            "Requirement already satisfied: mdurl~=0.1 in c:\\users\\maitri\\appdata\\local\\programs\\python\\python312\\lib\\site-packages (from markdown-it-py>=2.2.0->rich->keras>=3.0.0->tensorflow-intel==2.16.2->tensorflow) (0.1.2)\n"
          ]
        },
        {
          "name": "stderr",
          "output_type": "stream",
          "text": [
            "\n",
            "[notice] A new release of pip is available: 24.0 -> 24.1.1\n",
            "[notice] To update, run: python.exe -m pip install --upgrade pip\n"
          ]
        }
      ],
      "source": [
        "! pip install tensorflow"
      ]
    },
    {
      "cell_type": "code",
      "execution_count": 1,
      "metadata": {
        "id": "s_0ieg9vrfdn"
      },
      "outputs": [],
      "source": [
        "import tensorflow as tf\n",
        "from tensorflow.keras import datasets,layers,models\n",
        "import numpy as np\n",
        "import matplotlib.pyplot as plt"
      ]
    },
    {
      "cell_type": "code",
      "execution_count": 2,
      "metadata": {
        "colab": {
          "base_uri": "https://localhost:8080/"
        },
        "id": "11uJDJnTrfdo",
        "outputId": "f1c9ec81-5734-4e85-ad34-9b9b3c56fdaf"
      },
      "outputs": [
        {
          "output_type": "stream",
          "name": "stdout",
          "text": [
            "Downloading data from https://storage.googleapis.com/tensorflow/tf-keras-datasets/mnist.npz\n",
            "11490434/11490434 [==============================] - 0s 0us/step\n"
          ]
        }
      ],
      "source": [
        "# Load and preprocess the MNIST dataset\n",
        "(train_images, train_labels), (test_images, test_labels) = datasets.mnist.load_data()\n",
        "train_images = train_images[..., tf.newaxis] / 255.0\n",
        "test_images = test_images[..., tf.newaxis] / 255.0"
      ]
    },
    {
      "cell_type": "code",
      "execution_count": 3,
      "metadata": {
        "id": "uFKHmUhbrfdp"
      },
      "outputs": [],
      "source": [
        "# Build a simple CNN model\n",
        "model = models.Sequential([\n",
        "    layers.Conv2D(32, (3, 3), activation='relu', input_shape=(28, 28, 1)),\n",
        "    layers.MaxPooling2D((2, 2)),\n",
        "    layers.Conv2D(64, (3, 3), activation='relu'),\n",
        "    layers.MaxPooling2D((2, 2)),\n",
        "    layers.Conv2D(64, (3, 3), activation='relu'),\n",
        "    layers.Flatten(),\n",
        "    layers.Dense(64, activation='relu'),\n",
        "    layers.Dense(10)\n",
        "])"
      ]
    },
    {
      "cell_type": "code",
      "execution_count": 4,
      "metadata": {
        "colab": {
          "base_uri": "https://localhost:8080/"
        },
        "id": "VXxOwfoVrfdp",
        "outputId": "8d711b26-377e-4644-8d67-5850b162154e"
      },
      "outputs": [
        {
          "output_type": "stream",
          "name": "stdout",
          "text": [
            "Model: \"sequential\"\n",
            "_________________________________________________________________\n",
            " Layer (type)                Output Shape              Param #   \n",
            "=================================================================\n",
            " conv2d (Conv2D)             (None, 26, 26, 32)        320       \n",
            "                                                                 \n",
            " max_pooling2d (MaxPooling2  (None, 13, 13, 32)        0         \n",
            " D)                                                              \n",
            "                                                                 \n",
            " conv2d_1 (Conv2D)           (None, 11, 11, 64)        18496     \n",
            "                                                                 \n",
            " max_pooling2d_1 (MaxPoolin  (None, 5, 5, 64)          0         \n",
            " g2D)                                                            \n",
            "                                                                 \n",
            " conv2d_2 (Conv2D)           (None, 3, 3, 64)          36928     \n",
            "                                                                 \n",
            " flatten (Flatten)           (None, 576)               0         \n",
            "                                                                 \n",
            " dense (Dense)               (None, 64)                36928     \n",
            "                                                                 \n",
            " dense_1 (Dense)             (None, 10)                650       \n",
            "                                                                 \n",
            "=================================================================\n",
            "Total params: 93322 (364.54 KB)\n",
            "Trainable params: 93322 (364.54 KB)\n",
            "Non-trainable params: 0 (0.00 Byte)\n",
            "_________________________________________________________________\n"
          ]
        }
      ],
      "source": [
        "# Compile the model\n",
        "model.compile(optimizer='adam',\n",
        "              loss=tf.keras.losses.SparseCategoricalCrossentropy(from_logits=True),\n",
        "              metrics=['accuracy'])\n",
        "\n",
        "# Build the model by running it on a sample input\n",
        "model.build(input_shape=(None, 28, 28, 1))\n",
        "model.summary()"
      ]
    },
    {
      "cell_type": "code",
      "execution_count": 5,
      "metadata": {
        "colab": {
          "base_uri": "https://localhost:8080/"
        },
        "id": "8fQguSk3rfdq",
        "outputId": "c1bd3bfc-d61a-4845-fe1d-8f56ba9d570a"
      },
      "outputs": [
        {
          "output_type": "stream",
          "name": "stdout",
          "text": [
            "Epoch 1/5\n",
            "1875/1875 [==============================] - 69s 36ms/step - loss: 0.1415 - accuracy: 0.9566 - val_loss: 0.0481 - val_accuracy: 0.9837\n",
            "Epoch 2/5\n",
            "1875/1875 [==============================] - 57s 30ms/step - loss: 0.0464 - accuracy: 0.9862 - val_loss: 0.0407 - val_accuracy: 0.9865\n",
            "Epoch 3/5\n",
            "1875/1875 [==============================] - 55s 29ms/step - loss: 0.0329 - accuracy: 0.9898 - val_loss: 0.0401 - val_accuracy: 0.9869\n",
            "Epoch 4/5\n",
            "1875/1875 [==============================] - 55s 30ms/step - loss: 0.0262 - accuracy: 0.9917 - val_loss: 0.0347 - val_accuracy: 0.9886\n",
            "Epoch 5/5\n",
            "1875/1875 [==============================] - 55s 30ms/step - loss: 0.0196 - accuracy: 0.9938 - val_loss: 0.0298 - val_accuracy: 0.9911\n"
          ]
        },
        {
          "output_type": "execute_result",
          "data": {
            "text/plain": [
              "<keras.src.callbacks.History at 0x7f8edd6cf910>"
            ]
          },
          "metadata": {},
          "execution_count": 5
        }
      ],
      "source": [
        "# Train the model\n",
        "model.fit(train_images, train_labels, epochs=5, validation_data=(test_images, test_labels))\n"
      ]
    },
    {
      "cell_type": "code",
      "execution_count": null,
      "metadata": {
        "id": "8lZtT6yDrfdq"
      },
      "outputs": [],
      "source": [
        "# Function to generate SCORE-CAM heatmaps\n",
        "def generate_score_cam(model, image, class_index, layer_name='conv3'):\n",
        "    # Create a sub-model that maps the input image to the feature map\n",
        "    cam_model = tf.keras.Model(inputs=model.input, outputs=model.get_layer(layer_name).output)\n",
        "\n",
        "    # Get the feature maps of the image\n",
        "    feature_maps = cam_model.predict(image[np.newaxis, ...])\n",
        "\n",
        "    # Get the prediction of the class of interest\n",
        "    with tf.GradientTape() as tape:\n",
        "        tape.watch(image)\n",
        "        logits = model(image[np.newaxis, ...])\n",
        "        score = logits[0, class_index]\n",
        "\n",
        "    # Apply global average pooling to the feature maps\n",
        "    weights = tf.reduce_mean(feature_maps, axis=(0, 1, 2))\n",
        "\n",
        "    # Compute the weighted sum of the feature maps\n",
        "    weighted_feature_maps = tf.reduce_sum(tf.multiply(feature_maps, weights), axis=-1)[0]\n",
        "\n",
        "    # Normalize the weighted feature maps\n",
        "    heatmap = tf.maximum(weighted_feature_maps, 0) / tf.reduce_max(weighted_feature_maps)\n",
        "\n",
        "    return heatmap.numpy()"
      ]
    },
    {
      "cell_type": "code",
      "execution_count": null,
      "metadata": {
        "id": "ZKYDK0ZOrfdr",
        "outputId": "90081371-e713-46d4-ec77-6609288345ce"
      },
      "outputs": [
        {
          "name": "stdout",
          "output_type": "stream",
          "text": [
            "\u001b[1m1/1\u001b[0m \u001b[32m━━━━━━━━━━━━━━━━━━━━\u001b[0m\u001b[37m\u001b[0m \u001b[1m0s\u001b[0m 93ms/step\n"
          ]
        },
        {
          "ename": "ValueError",
          "evalue": "The layer sequential_1 has never been called and thus has no defined input.",
          "output_type": "error",
          "traceback": [
            "\u001b[1;31m---------------------------------------------------------------------------\u001b[0m",
            "\u001b[1;31mValueError\u001b[0m                                Traceback (most recent call last)",
            "Cell \u001b[1;32mIn[17], line 5\u001b[0m\n\u001b[0;32m      2\u001b[0m test_image \u001b[38;5;241m=\u001b[39m test_images[\u001b[38;5;241m0\u001b[39m]\n\u001b[0;32m      3\u001b[0m class_index \u001b[38;5;241m=\u001b[39m np\u001b[38;5;241m.\u001b[39margmax(model\u001b[38;5;241m.\u001b[39mpredict(test_image[np\u001b[38;5;241m.\u001b[39mnewaxis, \u001b[38;5;241m.\u001b[39m\u001b[38;5;241m.\u001b[39m\u001b[38;5;241m.\u001b[39m]))\n\u001b[1;32m----> 5\u001b[0m heatmap \u001b[38;5;241m=\u001b[39m \u001b[43mgenerate_score_cam\u001b[49m\u001b[43m(\u001b[49m\u001b[43mmodel\u001b[49m\u001b[43m,\u001b[49m\u001b[43m \u001b[49m\u001b[43mtest_image\u001b[49m\u001b[43m,\u001b[49m\u001b[43m \u001b[49m\u001b[43mclass_index\u001b[49m\u001b[43m)\u001b[49m\n\u001b[0;32m      7\u001b[0m \u001b[38;5;66;03m# Plot the original image and the heatmap\u001b[39;00m\n\u001b[0;32m      8\u001b[0m plt\u001b[38;5;241m.\u001b[39mfigure(figsize\u001b[38;5;241m=\u001b[39m(\u001b[38;5;241m10\u001b[39m, \u001b[38;5;241m4\u001b[39m))\n",
            "Cell \u001b[1;32mIn[16], line 4\u001b[0m, in \u001b[0;36mgenerate_score_cam\u001b[1;34m(model, image, class_index, layer_name)\u001b[0m\n\u001b[0;32m      2\u001b[0m \u001b[38;5;28;01mdef\u001b[39;00m \u001b[38;5;21mgenerate_score_cam\u001b[39m(model, image, class_index, layer_name\u001b[38;5;241m=\u001b[39m\u001b[38;5;124m'\u001b[39m\u001b[38;5;124mconv3\u001b[39m\u001b[38;5;124m'\u001b[39m):\n\u001b[0;32m      3\u001b[0m     \u001b[38;5;66;03m# Create a sub-model that maps the input image to the feature map\u001b[39;00m\n\u001b[1;32m----> 4\u001b[0m     cam_model \u001b[38;5;241m=\u001b[39m tf\u001b[38;5;241m.\u001b[39mkeras\u001b[38;5;241m.\u001b[39mModel(inputs\u001b[38;5;241m=\u001b[39m\u001b[43mmodel\u001b[49m\u001b[38;5;241;43m.\u001b[39;49m\u001b[43minput\u001b[49m, outputs\u001b[38;5;241m=\u001b[39mmodel\u001b[38;5;241m.\u001b[39mget_layer(layer_name)\u001b[38;5;241m.\u001b[39moutput)\n\u001b[0;32m      6\u001b[0m     \u001b[38;5;66;03m# Get the feature maps of the image\u001b[39;00m\n\u001b[0;32m      7\u001b[0m     feature_maps \u001b[38;5;241m=\u001b[39m cam_model\u001b[38;5;241m.\u001b[39mpredict(image[np\u001b[38;5;241m.\u001b[39mnewaxis, \u001b[38;5;241m.\u001b[39m\u001b[38;5;241m.\u001b[39m\u001b[38;5;241m.\u001b[39m])\n",
            "File \u001b[1;32mc:\\Users\\Maitri\\AppData\\Local\\Programs\\Python\\Python312\\Lib\\site-packages\\keras\\src\\ops\\operation.py:228\u001b[0m, in \u001b[0;36mOperation.input\u001b[1;34m(self)\u001b[0m\n\u001b[0;32m    218\u001b[0m \u001b[38;5;129m@property\u001b[39m\n\u001b[0;32m    219\u001b[0m \u001b[38;5;28;01mdef\u001b[39;00m \u001b[38;5;21minput\u001b[39m(\u001b[38;5;28mself\u001b[39m):\n\u001b[0;32m    220\u001b[0m \u001b[38;5;250m    \u001b[39m\u001b[38;5;124;03m\"\"\"Retrieves the input tensor(s) of a symbolic operation.\u001b[39;00m\n\u001b[0;32m    221\u001b[0m \n\u001b[0;32m    222\u001b[0m \u001b[38;5;124;03m    Only returns the tensor(s) corresponding to the *first time*\u001b[39;00m\n\u001b[1;32m   (...)\u001b[0m\n\u001b[0;32m    226\u001b[0m \u001b[38;5;124;03m        Input tensor or list of input tensors.\u001b[39;00m\n\u001b[0;32m    227\u001b[0m \u001b[38;5;124;03m    \"\"\"\u001b[39;00m\n\u001b[1;32m--> 228\u001b[0m     \u001b[38;5;28;01mreturn\u001b[39;00m \u001b[38;5;28;43mself\u001b[39;49m\u001b[38;5;241;43m.\u001b[39;49m\u001b[43m_get_node_attribute_at_index\u001b[49m\u001b[43m(\u001b[49m\u001b[38;5;241;43m0\u001b[39;49m\u001b[43m,\u001b[49m\u001b[43m \u001b[49m\u001b[38;5;124;43m\"\u001b[39;49m\u001b[38;5;124;43minput_tensors\u001b[39;49m\u001b[38;5;124;43m\"\u001b[39;49m\u001b[43m,\u001b[49m\u001b[43m \u001b[49m\u001b[38;5;124;43m\"\u001b[39;49m\u001b[38;5;124;43minput\u001b[39;49m\u001b[38;5;124;43m\"\u001b[39;49m\u001b[43m)\u001b[49m\n",
            "File \u001b[1;32mc:\\Users\\Maitri\\AppData\\Local\\Programs\\Python\\Python312\\Lib\\site-packages\\keras\\src\\ops\\operation.py:259\u001b[0m, in \u001b[0;36mOperation._get_node_attribute_at_index\u001b[1;34m(self, node_index, attr, attr_name)\u001b[0m\n\u001b[0;32m    243\u001b[0m \u001b[38;5;250m\u001b[39m\u001b[38;5;124;03m\"\"\"Private utility to retrieves an attribute (e.g. inputs) from a node.\u001b[39;00m\n\u001b[0;32m    244\u001b[0m \n\u001b[0;32m    245\u001b[0m \u001b[38;5;124;03mThis is used to implement the properties:\u001b[39;00m\n\u001b[1;32m   (...)\u001b[0m\n\u001b[0;32m    256\u001b[0m \u001b[38;5;124;03m    The operation's attribute `attr` at the node of index `node_index`.\u001b[39;00m\n\u001b[0;32m    257\u001b[0m \u001b[38;5;124;03m\"\"\"\u001b[39;00m\n\u001b[0;32m    258\u001b[0m \u001b[38;5;28;01mif\u001b[39;00m \u001b[38;5;129;01mnot\u001b[39;00m \u001b[38;5;28mself\u001b[39m\u001b[38;5;241m.\u001b[39m_inbound_nodes:\n\u001b[1;32m--> 259\u001b[0m     \u001b[38;5;28;01mraise\u001b[39;00m \u001b[38;5;167;01mValueError\u001b[39;00m(\n\u001b[0;32m    260\u001b[0m         \u001b[38;5;124mf\u001b[39m\u001b[38;5;124m\"\u001b[39m\u001b[38;5;124mThe layer \u001b[39m\u001b[38;5;132;01m{\u001b[39;00m\u001b[38;5;28mself\u001b[39m\u001b[38;5;241m.\u001b[39mname\u001b[38;5;132;01m}\u001b[39;00m\u001b[38;5;124m has never been called \u001b[39m\u001b[38;5;124m\"\u001b[39m\n\u001b[0;32m    261\u001b[0m         \u001b[38;5;124mf\u001b[39m\u001b[38;5;124m\"\u001b[39m\u001b[38;5;124mand thus has no defined \u001b[39m\u001b[38;5;132;01m{\u001b[39;00mattr_name\u001b[38;5;132;01m}\u001b[39;00m\u001b[38;5;124m.\u001b[39m\u001b[38;5;124m\"\u001b[39m\n\u001b[0;32m    262\u001b[0m     )\n\u001b[0;32m    263\u001b[0m \u001b[38;5;28;01mif\u001b[39;00m \u001b[38;5;129;01mnot\u001b[39;00m \u001b[38;5;28mlen\u001b[39m(\u001b[38;5;28mself\u001b[39m\u001b[38;5;241m.\u001b[39m_inbound_nodes) \u001b[38;5;241m>\u001b[39m node_index:\n\u001b[0;32m    264\u001b[0m     \u001b[38;5;28;01mraise\u001b[39;00m \u001b[38;5;167;01mValueError\u001b[39;00m(\n\u001b[0;32m    265\u001b[0m         \u001b[38;5;124mf\u001b[39m\u001b[38;5;124m\"\u001b[39m\u001b[38;5;124mAsked to get \u001b[39m\u001b[38;5;132;01m{\u001b[39;00mattr_name\u001b[38;5;132;01m}\u001b[39;00m\u001b[38;5;124m at node \u001b[39m\u001b[38;5;124m\"\u001b[39m\n\u001b[0;32m    266\u001b[0m         \u001b[38;5;124mf\u001b[39m\u001b[38;5;124m\"\u001b[39m\u001b[38;5;132;01m{\u001b[39;00mnode_index\u001b[38;5;132;01m}\u001b[39;00m\u001b[38;5;124m, but the operation has only \u001b[39m\u001b[38;5;124m\"\u001b[39m\n\u001b[0;32m    267\u001b[0m         \u001b[38;5;124mf\u001b[39m\u001b[38;5;124m\"\u001b[39m\u001b[38;5;132;01m{\u001b[39;00m\u001b[38;5;28mlen\u001b[39m(\u001b[38;5;28mself\u001b[39m\u001b[38;5;241m.\u001b[39m_inbound_nodes)\u001b[38;5;132;01m}\u001b[39;00m\u001b[38;5;124m inbound nodes.\u001b[39m\u001b[38;5;124m\"\u001b[39m\n\u001b[0;32m    268\u001b[0m     )\n",
            "\u001b[1;31mValueError\u001b[0m: The layer sequential_1 has never been called and thus has no defined input."
          ]
        }
      ],
      "source": [
        "# Visualize the SCORE-CAM for a test image\n",
        "test_image = test_images[0]\n",
        "class_index = np.argmax(model.predict(test_image[np.newaxis, ...]))\n",
        "\n",
        "heatmap = generate_score_cam(model, test_image, class_index)\n",
        "\n",
        "# Plot the original image and the heatmap\n",
        "plt.figure(figsize=(10, 4))\n",
        "\n",
        "plt.subplot(1, 2, 1)\n",
        "plt.imshow(test_image[..., 0], cmap='gray')\n",
        "plt.title('Original Image')\n",
        "\n",
        "plt.subplot(1, 2, 2)\n",
        "plt.imshow(test_image[..., 0], cmap='gray')\n",
        "plt.imshow(heatmap, cmap='jet', alpha=0.5)\n",
        "plt.title('SCORE-CAM Heatmap')\n",
        "\n",
        "plt.show()"
      ]
    },
    {
      "cell_type": "code",
      "execution_count": null,
      "metadata": {
        "id": "2vJ6dAplrfdr"
      },
      "outputs": [],
      "source": [
        "def run_cam(model, image, target, verbose=False):\n",
        "    # Extract convolutional layers\n",
        "    cnn_layers = []\n",
        "    for layer in model.layers:\n",
        "        if isinstance(layer, tf.keras.layers.Conv2D) or isinstance(layer, tf.keras.layers.MaxPooling2D) or isinstance(layer, tf.keras.layers.AvgPooling2D):\n",
        "            cnn_layers.append(layer)\n",
        "\n",
        "    x = image[tf.newaxis, ...]  # Add batch dimension\n",
        "    sx, sy = image.shape[:2]\n",
        "\n",
        "    # 1. Pass input image only through the convolutional layers\n",
        "    for layer in cnn_layers:\n",
        "        x = layer(x)\n",
        "\n",
        "    # 2. Interpolate back to the original size\n",
        "    x = tf.image.resize(x, (sx, sy), method='bilinear')\n",
        "\n",
        "    if verbose:\n",
        "        print(\"Calculating image masks...\")\n",
        "\n",
        "    # 3. Normalize each mask\n",
        "    # 4. Project normalized masks to original image\n",
        "    _, _, _, k = x.shape\n",
        "    masked_images = []\n",
        "    for i in range(k):\n",
        "        feature_map = x[0, :, :, i]\n",
        "        max_val = tf.reduce_max(feature_map)\n",
        "        min_val = tf.reduce_min(feature_map)\n",
        "        normalized_map = (feature_map - min_val) / (max_val - min_val + 1e-4)\n",
        "        masked_image = image * normalized_map[..., tf.newaxis]\n",
        "        masked_images.append(masked_image)\n",
        "\n",
        "    if verbose:\n",
        "        print(\"Passing masked images through the network...\")\n",
        "\n",
        "    # 5. Pass each mask through the original network and calculate score\n",
        "    weight_scores = []\n",
        "    for m_img in masked_images:\n",
        "        m_img = m_img[tf.newaxis, ...]\n",
        "        logits = model(m_img)\n",
        "        if tf.keras.layers.Softmax() in model.layers:\n",
        "            out = tf.nn.softmax(logits, axis=1).numpy()\n",
        "        else:\n",
        "            out = np.exp(logits.numpy())\n",
        "\n",
        "        weight_scores.append(out[0][target])\n",
        "\n",
        "    if verbose:\n",
        "        print(\"Constructing image with the CAM...\")\n",
        "\n",
        "    # 6. Construct cam-points of interest\n",
        "    output_img = tf.zeros_like(image)\n",
        "    for ws, mask in zip(weight_scores, masked_images):\n",
        "        if not np.isnan(ws):\n",
        "            output_img += tf.nn.relu(mask * ws)\n",
        "\n",
        "    if verbose:\n",
        "        return masked_images, weight_scores, output_img\n",
        "    else:\n",
        "        return output_img"
      ]
    },
    {
      "cell_type": "code",
      "execution_count": 6,
      "metadata": {
        "colab": {
          "base_uri": "https://localhost:8080/",
          "height": 849
        },
        "id": "_m3fe2Fnrfds",
        "outputId": "140a26ad-9048-47d6-a7dd-965dbbbb8dee"
      },
      "outputs": [
        {
          "output_type": "stream",
          "name": "stdout",
          "text": [
            "1/1 [==============================] - 0s 109ms/step\n",
            "Calculating image masks...\n",
            "Passing masked images through the network...\n",
            "Constructing image with the CAM...\n"
          ]
        },
        {
          "output_type": "error",
          "ename": "ValueError",
          "evalue": "setting an array element with a sequence. The requested array has an inhomogeneous shape after 1 dimensions. The detected shape was (3,) + inhomogeneous part.",
          "traceback": [
            "\u001b[0;31m---------------------------------------------------------------------------\u001b[0m",
            "\u001b[0;31mAttributeError\u001b[0m                            Traceback (most recent call last)",
            "\u001b[0;32m/usr/local/lib/python3.10/dist-packages/numpy/core/fromnumeric.py\u001b[0m in \u001b[0;36msqueeze\u001b[0;34m(a, axis)\u001b[0m\n\u001b[1;32m   1551\u001b[0m     \u001b[0;32mtry\u001b[0m\u001b[0;34m:\u001b[0m\u001b[0;34m\u001b[0m\u001b[0;34m\u001b[0m\u001b[0m\n\u001b[0;32m-> 1552\u001b[0;31m         \u001b[0msqueeze\u001b[0m \u001b[0;34m=\u001b[0m \u001b[0ma\u001b[0m\u001b[0;34m.\u001b[0m\u001b[0msqueeze\u001b[0m\u001b[0;34m\u001b[0m\u001b[0;34m\u001b[0m\u001b[0m\n\u001b[0m\u001b[1;32m   1553\u001b[0m     \u001b[0;32mexcept\u001b[0m \u001b[0mAttributeError\u001b[0m\u001b[0;34m:\u001b[0m\u001b[0;34m\u001b[0m\u001b[0;34m\u001b[0m\u001b[0m\n",
            "\u001b[0;31mAttributeError\u001b[0m: 'tuple' object has no attribute 'squeeze'",
            "\nDuring handling of the above exception, another exception occurred:\n",
            "\u001b[0;31mValueError\u001b[0m                                Traceback (most recent call last)",
            "\u001b[0;32m<ipython-input-6-bbe404442943>\u001b[0m in \u001b[0;36m<cell line: 77>\u001b[0;34m()\u001b[0m\n\u001b[1;32m     75\u001b[0m \u001b[0mplt\u001b[0m\u001b[0;34m.\u001b[0m\u001b[0msubplot\u001b[0m\u001b[0;34m(\u001b[0m\u001b[0;36m1\u001b[0m\u001b[0;34m,\u001b[0m \u001b[0;36m2\u001b[0m\u001b[0;34m,\u001b[0m \u001b[0;36m2\u001b[0m\u001b[0;34m)\u001b[0m\u001b[0;34m\u001b[0m\u001b[0;34m\u001b[0m\u001b[0m\n\u001b[1;32m     76\u001b[0m \u001b[0mplt\u001b[0m\u001b[0;34m.\u001b[0m\u001b[0mimshow\u001b[0m\u001b[0;34m(\u001b[0m\u001b[0mtest_image\u001b[0m\u001b[0;34m[\u001b[0m\u001b[0;34m...\u001b[0m\u001b[0;34m,\u001b[0m \u001b[0;36m0\u001b[0m\u001b[0;34m]\u001b[0m\u001b[0;34m,\u001b[0m \u001b[0mcmap\u001b[0m\u001b[0;34m=\u001b[0m\u001b[0;34m'gray'\u001b[0m\u001b[0;34m)\u001b[0m\u001b[0;34m\u001b[0m\u001b[0;34m\u001b[0m\u001b[0m\n\u001b[0;32m---> 77\u001b[0;31m \u001b[0moutput_img_squeezed\u001b[0m \u001b[0;34m=\u001b[0m \u001b[0mnp\u001b[0m\u001b[0;34m.\u001b[0m\u001b[0msqueeze\u001b[0m\u001b[0;34m(\u001b[0m\u001b[0moutput_img\u001b[0m\u001b[0;34m,\u001b[0m \u001b[0maxis\u001b[0m\u001b[0;34m=\u001b[0m\u001b[0;34m-\u001b[0m\u001b[0;36m1\u001b[0m\u001b[0;34m)\u001b[0m\u001b[0;34m\u001b[0m\u001b[0;34m\u001b[0m\u001b[0m\n\u001b[0m\u001b[1;32m     78\u001b[0m \u001b[0mplt\u001b[0m\u001b[0;34m.\u001b[0m\u001b[0mimshow\u001b[0m\u001b[0;34m(\u001b[0m\u001b[0moutput_img_squeezed\u001b[0m\u001b[0;34m,\u001b[0m \u001b[0mcmap\u001b[0m\u001b[0;34m=\u001b[0m\u001b[0;34m'jet'\u001b[0m\u001b[0;34m,\u001b[0m \u001b[0malpha\u001b[0m\u001b[0;34m=\u001b[0m\u001b[0;36m0.5\u001b[0m\u001b[0;34m)\u001b[0m\u001b[0;34m\u001b[0m\u001b[0;34m\u001b[0m\u001b[0m\n\u001b[1;32m     79\u001b[0m \u001b[0mplt\u001b[0m\u001b[0;34m.\u001b[0m\u001b[0mtitle\u001b[0m\u001b[0;34m(\u001b[0m\u001b[0;34m'SCORE-CAM Output'\u001b[0m\u001b[0;34m)\u001b[0m\u001b[0;34m\u001b[0m\u001b[0;34m\u001b[0m\u001b[0m\n",
            "\u001b[0;32m/usr/local/lib/python3.10/dist-packages/numpy/core/fromnumeric.py\u001b[0m in \u001b[0;36msqueeze\u001b[0;34m(a, axis)\u001b[0m\n\u001b[1;32m   1552\u001b[0m         \u001b[0msqueeze\u001b[0m \u001b[0;34m=\u001b[0m \u001b[0ma\u001b[0m\u001b[0;34m.\u001b[0m\u001b[0msqueeze\u001b[0m\u001b[0;34m\u001b[0m\u001b[0;34m\u001b[0m\u001b[0m\n\u001b[1;32m   1553\u001b[0m     \u001b[0;32mexcept\u001b[0m \u001b[0mAttributeError\u001b[0m\u001b[0;34m:\u001b[0m\u001b[0;34m\u001b[0m\u001b[0;34m\u001b[0m\u001b[0m\n\u001b[0;32m-> 1554\u001b[0;31m         \u001b[0;32mreturn\u001b[0m \u001b[0m_wrapit\u001b[0m\u001b[0;34m(\u001b[0m\u001b[0ma\u001b[0m\u001b[0;34m,\u001b[0m \u001b[0;34m'squeeze'\u001b[0m\u001b[0;34m,\u001b[0m \u001b[0maxis\u001b[0m\u001b[0;34m=\u001b[0m\u001b[0maxis\u001b[0m\u001b[0;34m)\u001b[0m\u001b[0;34m\u001b[0m\u001b[0;34m\u001b[0m\u001b[0m\n\u001b[0m\u001b[1;32m   1555\u001b[0m     \u001b[0;32mif\u001b[0m \u001b[0maxis\u001b[0m \u001b[0;32mis\u001b[0m \u001b[0;32mNone\u001b[0m\u001b[0;34m:\u001b[0m\u001b[0;34m\u001b[0m\u001b[0;34m\u001b[0m\u001b[0m\n\u001b[1;32m   1556\u001b[0m         \u001b[0;32mreturn\u001b[0m \u001b[0msqueeze\u001b[0m\u001b[0;34m(\u001b[0m\u001b[0;34m)\u001b[0m\u001b[0;34m\u001b[0m\u001b[0;34m\u001b[0m\u001b[0m\n",
            "\u001b[0;32m/usr/local/lib/python3.10/dist-packages/numpy/core/fromnumeric.py\u001b[0m in \u001b[0;36m_wrapit\u001b[0;34m(obj, method, *args, **kwds)\u001b[0m\n\u001b[1;32m     43\u001b[0m     \u001b[0;32mexcept\u001b[0m \u001b[0mAttributeError\u001b[0m\u001b[0;34m:\u001b[0m\u001b[0;34m\u001b[0m\u001b[0;34m\u001b[0m\u001b[0m\n\u001b[1;32m     44\u001b[0m         \u001b[0mwrap\u001b[0m \u001b[0;34m=\u001b[0m \u001b[0;32mNone\u001b[0m\u001b[0;34m\u001b[0m\u001b[0;34m\u001b[0m\u001b[0m\n\u001b[0;32m---> 45\u001b[0;31m     \u001b[0mresult\u001b[0m \u001b[0;34m=\u001b[0m \u001b[0mgetattr\u001b[0m\u001b[0;34m(\u001b[0m\u001b[0masarray\u001b[0m\u001b[0;34m(\u001b[0m\u001b[0mobj\u001b[0m\u001b[0;34m)\u001b[0m\u001b[0;34m,\u001b[0m \u001b[0mmethod\u001b[0m\u001b[0;34m)\u001b[0m\u001b[0;34m(\u001b[0m\u001b[0;34m*\u001b[0m\u001b[0margs\u001b[0m\u001b[0;34m,\u001b[0m \u001b[0;34m**\u001b[0m\u001b[0mkwds\u001b[0m\u001b[0;34m)\u001b[0m\u001b[0;34m\u001b[0m\u001b[0;34m\u001b[0m\u001b[0m\n\u001b[0m\u001b[1;32m     46\u001b[0m     \u001b[0;32mif\u001b[0m \u001b[0mwrap\u001b[0m\u001b[0;34m:\u001b[0m\u001b[0;34m\u001b[0m\u001b[0;34m\u001b[0m\u001b[0m\n\u001b[1;32m     47\u001b[0m         \u001b[0;32mif\u001b[0m \u001b[0;32mnot\u001b[0m \u001b[0misinstance\u001b[0m\u001b[0;34m(\u001b[0m\u001b[0mresult\u001b[0m\u001b[0;34m,\u001b[0m \u001b[0mmu\u001b[0m\u001b[0;34m.\u001b[0m\u001b[0mndarray\u001b[0m\u001b[0;34m)\u001b[0m\u001b[0;34m:\u001b[0m\u001b[0;34m\u001b[0m\u001b[0;34m\u001b[0m\u001b[0m\n",
            "\u001b[0;31mValueError\u001b[0m: setting an array element with a sequence. The requested array has an inhomogeneous shape after 1 dimensions. The detected shape was (3,) + inhomogeneous part."
          ]
        },
        {
          "output_type": "display_data",
          "data": {
            "text/plain": [
              "<Figure size 1000x400 with 2 Axes>"
            ],
            "image/png": "[encoded data removed]"
          },
          "metadata": {}
        }
      ],
      "source": [
        "def run_cam(model, image, target, verbose=False):\n",
        "    # Extract convolutional layers\n",
        "    cnn_layers = []\n",
        "    for layer in model.layers:\n",
        "        if isinstance(layer, tf.keras.layers.Conv2D) or isinstance(layer, tf.keras.layers.MaxPooling2D) or isinstance(layer, tf.keras.layers.AveragePooling2D):\n",
        "            cnn_layers.append(layer)\n",
        "\n",
        "    x = image[tf.newaxis, ...]  # Add batch dimension\n",
        "    sx, sy = image.shape[:2]\n",
        "\n",
        "    # 1. Pass input image only through the convolutional layers\n",
        "    for layer in cnn_layers:\n",
        "        x = layer(x)\n",
        "\n",
        "    # 2. Interpolate back to the original size\n",
        "    x = tf.image.resize(x, (sx, sy), method='bilinear')\n",
        "\n",
        "    if verbose:\n",
        "        print(\"Calculating image masks...\")\n",
        "\n",
        "    # 3. Normalize each mask\n",
        "    # 4. Project normalized masks to original image\n",
        "    _, _, _, k = x.shape\n",
        "    masked_images = []\n",
        "    for i in range(k):\n",
        "        feature_map = x[0, :, :, i]\n",
        "        max_val = tf.reduce_max(feature_map)\n",
        "        min_val = tf.reduce_min(feature_map)\n",
        "        normalized_map = (feature_map - min_val) / (max_val - min_val + 1e-4)\n",
        "        masked_image = image * normalized_map[..., tf.newaxis]\n",
        "        masked_images.append(masked_image)\n",
        "\n",
        "    if verbose:\n",
        "        print(\"Passing masked images through the network...\")\n",
        "\n",
        "    # 5. Pass each mask through the original network and calculate score\n",
        "    weight_scores = []\n",
        "    for m_img in masked_images:\n",
        "        m_img = m_img[tf.newaxis, ...]\n",
        "        logits = model(m_img)\n",
        "        if any(isinstance(layer, tf.keras.layers.Softmax) for layer in model.layers):\n",
        "            out = tf.nn.softmax(logits, axis=1).numpy()\n",
        "        else:\n",
        "            out = np.exp(logits.numpy())\n",
        "\n",
        "        weight_scores.append(out[0][target])\n",
        "\n",
        "    if verbose:\n",
        "        print(\"Constructing image with the CAM...\")\n",
        "\n",
        "    # 6. Construct cam-points of interest\n",
        "    output_img = tf.zeros_like(image, dtype=tf.float32)\n",
        "    for ws, mask in zip(weight_scores, masked_images):\n",
        "        if not np.isnan(ws):\n",
        "            output_img += tf.nn.relu(tf.cast(mask * ws, tf.float32))\n",
        "\n",
        "    if verbose:\n",
        "        return masked_images, weight_scores, output_img\n",
        "    else:\n",
        "        return output_img  # Ensure output_img is returned as tensor\n",
        "\n",
        "# Test the run_cam function with a sample image\n",
        "test_image = test_images[0]\n",
        "class_index = np.argmax(model.predict(test_image[tf.newaxis, ...]))\n",
        "\n",
        "output_img = run_cam(model, test_image, class_index, verbose=True)\n",
        "\n",
        "# Plot the original image and the output CAM image\n",
        "plt.figure(figsize=(10, 4))\n",
        "\n",
        "plt.subplot(1, 2, 1)\n",
        "plt.imshow(test_image[..., 0], cmap='gray')\n",
        "plt.title('Original Image')\n",
        "\n",
        "plt.subplot(1, 2, 2)\n",
        "plt.imshow(test_image[..., 0], cmap='gray')\n",
        "output_img_squeezed = np.squeeze(output_img, axis=-1)\n",
        "plt.imshow(output_img_squeezed, cmap='jet', alpha=0.5)\n",
        "plt.title('SCORE-CAM Output')\n",
        "\n",
        "plt.show()"
      ]
    },
    {
      "source": [
        "def run_cam(model, image, target, verbose=False):\n",
        "    # Extract convolutional layers\n",
        "    cnn_layers = []\n",
        "    for layer in model.layers:\n",
        "        if isinstance(layer, tf.keras.layers.Conv2D) or isinstance(layer, tf.keras.layers.MaxPooling2D) or isinstance(layer, tf.keras.layers.AveragePooling2D):\n",
        "            cnn_layers.append(layer)\n",
        "\n",
        "    x = image[tf.newaxis, ...]  # Add batch dimension\n",
        "    sx, sy = image.shape[:2]\n",
        "\n",
        "    # 1. Pass input image only through the convolutional layers\n",
        "    for layer in cnn_layers:\n",
        "        x = layer(x)\n",
        "\n",
        "    # 2. Interpolate back to the original size\n",
        "    x = tf.image.resize(x, (sx, sy), method='bilinear')\n",
        "\n",
        "    if verbose:\n",
        "        print(\"Calculating image masks...\")\n",
        "\n",
        "    # 3. Normalize each mask\n",
        "    # 4. Project normalized masks to original image\n",
        "    _, _, _, k = x.shape\n",
        "    masked_images = []\n",
        "    for i in range(k):\n",
        "        feature_map = x[0, :, :, i]\n",
        "        max_val = tf.reduce_max(feature_map)\n",
        "        min_val = tf.reduce_min(feature_map)\n",
        "        normalized_map = (feature_map - min_val) / (max_val - min_val + 1e-4)\n",
        "        masked_image = image * normalized_map[..., tf.newaxis]\n",
        "        masked_images.append(masked_image)\n",
        "\n",
        "    if verbose:\n",
        "        print(\"Passing masked images through the network...\")\n",
        "\n",
        "    # 5. Pass each mask through the original network and calculate score\n",
        "    weight_scores = []\n",
        "    for m_img in masked_images:\n",
        "        m_img = m_img[tf.newaxis, ...]\n",
        "        logits = model(m_img)\n",
        "        if any(isinstance(layer, tf.keras.layers.Softmax) for layer in model.layers):\n",
        "            out = tf.nn.softmax(logits, axis=1).numpy()\n",
        "        else:\n",
        "            out = np.exp(logits.numpy())\n",
        "\n",
        "        weight_scores.append(out[0][target])\n",
        "\n",
        "    if verbose:\n",
        "        print(\"Constructing image with the CAM...\")\n",
        "\n",
        "    # 6. Construct cam-points of interest\n",
        "    output_img = tf.zeros_like(image, dtype=tf.float32)\n",
        "    for ws, mask in zip(weight_scores, masked_images):\n",
        "        if not np.isnan(ws):\n",
        "            output_img += tf.nn.relu(tf.cast(mask * ws, tf.float32))\n",
        "\n",
        "    # Return only output_img regardless of verbose\n",
        "    return output_img  # Ensure output_img is returned as tensor\n",
        "\n",
        "# Test the run_cam function with a sample image\n",
        "test_image = test_images[0]\n",
        "class_index = np.argmax(model.predict(test_image[tf.newaxis, ...]))\n",
        "\n",
        "output_img = run_cam(model, test_image, class_index, verbose=True)\n",
        "\n",
        "# Plot the original image and the output CAM image\n",
        "plt.figure(figsize=(10, 4))\n",
        "\n",
        "plt.subplot(1, 2, 1)\n",
        "plt.imshow(test_image[..., 0], cmap='gray')\n",
        "plt.title('Original Image')\n",
        "\n",
        "plt.subplot(1, 2, 2)\n",
        "plt.imshow(test_image[..., 0], cmap='gray')\n",
        "# Squeeze the output_img directly, as it is now a single tensor\n",
        "output_img_squeezed = np.squeeze(output_img.numpy(), axis=-1)  # Convert to NumPy array before squeezing\n",
        "plt.imshow(output_img_squeezed, cmap='jet', alpha=0.5)\n",
        "plt.title('SCORE-CAM Output')\n",
        "\n",
        "plt.show()"
      ],
      "cell_type": "code",
      "metadata": {
        "colab": {
          "base_uri": "https://localhost:8080/",
          "height": 389
        },
        "id": "leqXZgWTtdQ6",
        "outputId": "58660eb5-063e-442c-dba5-7b2056c30163"
      },
      "execution_count": 7,
      "outputs": [
        {
          "output_type": "stream",
          "name": "stdout",
          "text": [
            "1/1 [==============================] - 0s 63ms/step\n",
            "Calculating image masks...\n",
            "Passing masked images through the network...\n",
            "Constructing image with the CAM...\n"
          ]
        },
        {
          "output_type": "display_data",
          "data": {
            "text/plain": [
              "<Figure size 1000x400 with 2 Axes>"
            ],
            "image/png": "[encoded data removed]"
          },
          "metadata": {}
        }
      ]
    },
    {
      "cell_type": "code",
      "source": [
        "! pip install shap\n",
        "import shap\n",
        "explainer = shap.DeepExplainer(model, data=train_images[:100])  # Use a subset of training data for faster computation\n"
      ],
      "metadata": {
        "colab": {
          "base_uri": "https://localhost:8080/"
        },
        "id": "6jo7eIwVuwiK",
        "outputId": "95e33a2e-ca8f-42f5-fefa-a1dc6d7982f5"
      },
      "execution_count": 9,
      "outputs": [
        {
          "output_type": "stream",
          "name": "stdout",
          "text": [
            "Collecting shap\n",
            "  Downloading shap-0.46.0-cp310-cp310-manylinux_2_12_x86_64.manylinux2010_x86_64.manylinux_2_17_x86_64.manylinux2014_x86_64.whl (540 kB)\n",
            "\u001b[?25l     \u001b[90m━━━━━━━━━━━━━━━━━━━━━━━━━━━━━━━━━━━━━━━━\u001b[0m \u001b[32m0.0/540.1 kB\u001b[0m \u001b[31m?\u001b[0m eta \u001b[36m-:--:--\u001b[0m\r\u001b[2K     \u001b[91m━━━━━━━━━━\u001b[0m\u001b[91m╸\u001b[0m\u001b[90m━━━━━━━━━━━━━━━━━━━━━━━━━━━━━\u001b[0m \u001b[32m143.4/540.1 kB\u001b[0m \u001b[31m4.3 MB/s\u001b[0m eta \u001b[36m0:00:01\u001b[0m\r\u001b[2K     \u001b[90m━━━━━━━━━━━━━━━━━━━━━━━━━━━━━━━━━━━━━━━━\u001b[0m \u001b[32m540.1/540.1 kB\u001b[0m \u001b[31m8.4 MB/s\u001b[0m eta \u001b[36m0:00:00\u001b[0m\n",
            "\u001b[?25hRequirement already satisfied: numpy in /usr/local/lib/python3.10/dist-packages (from shap) (1.25.2)\n",
            "Requirement already satisfied: scipy in /usr/local/lib/python3.10/dist-packages (from shap) (1.11.4)\n",
            "Requirement already satisfied: scikit-learn in /usr/local/lib/python3.10/dist-packages (from shap) (1.2.2)\n",
            "Requirement already satisfied: pandas in /usr/local/lib/python3.10/dist-packages (from shap) (2.0.3)\n",
            "Requirement already satisfied: tqdm>=4.27.0 in /usr/local/lib/python3.10/dist-packages (from shap) (4.66.4)\n",
            "Requirement already satisfied: packaging>20.9 in /usr/local/lib/python3.10/dist-packages (from shap) (24.1)\n",
            "Collecting slicer==0.0.8 (from shap)\n",
            "  Downloading slicer-0.0.8-py3-none-any.whl (15 kB)\n",
            "Requirement already satisfied: numba in /usr/local/lib/python3.10/dist-packages (from shap) (0.58.1)\n",
            "Requirement already satisfied: cloudpickle in /usr/local/lib/python3.10/dist-packages (from shap) (2.2.1)\n",
            "Requirement already satisfied: llvmlite<0.42,>=0.41.0dev0 in /usr/local/lib/python3.10/dist-packages (from numba->shap) (0.41.1)\n",
            "Requirement already satisfied: python-dateutil>=2.8.2 in /usr/local/lib/python3.10/dist-packages (from pandas->shap) (2.8.2)\n",
            "Requirement already satisfied: pytz>=2020.1 in /usr/local/lib/python3.10/dist-packages (from pandas->shap) (2023.4)\n",
            "Requirement already satisfied: tzdata>=2022.1 in /usr/local/lib/python3.10/dist-packages (from pandas->shap) (2024.1)\n",
            "Requirement already satisfied: joblib>=1.1.1 in /usr/local/lib/python3.10/dist-packages (from scikit-learn->shap) (1.4.2)\n",
            "Requirement already satisfied: threadpoolctl>=2.0.0 in /usr/local/lib/python3.10/dist-packages (from scikit-learn->shap) (3.5.0)\n",
            "Requirement already satisfied: six>=1.5 in /usr/local/lib/python3.10/dist-packages (from python-dateutil>=2.8.2->pandas->shap) (1.16.0)\n",
            "Installing collected packages: slicer, shap\n",
            "Successfully installed shap-0.46.0 slicer-0.0.8\n"
          ]
        },
        {
          "output_type": "stream",
          "name": "stderr",
          "text": [
            "/usr/local/lib/python3.10/dist-packages/shap/explainers/_deep/deep_tf.py:99: UserWarning: Your TensorFlow version is newer than 2.4.0 and so graph support has been removed in eager mode and some static graphs may not be supported. See PR #1483 for discussion.\n",
            "  warnings.warn(\"Your TensorFlow version is newer than 2.4.0 and so graph support has been removed in eager mode and some static graphs may not be supported. See PR #1483 for discussion.\")\n"
          ]
        }
      ]
    },
    {
      "cell_type": "code",
      "source": [
        "# Calculate SHAP values for test images\n",
        "num_test_images = 10  # Number of test images to explain\n",
        "test_images_sample = test_images[:num_test_images]\n",
        "shap_values = explainer.shap_values(test_images_sample)\n"
      ],
      "metadata": {
        "colab": {
          "base_uri": "https://localhost:8080/"
        },
        "id": "lPaX3LY8uwk7",
        "outputId": "c4b3c3d6-6e8e-429c-fb3e-d0e74031ede9"
      },
      "execution_count": 10,
      "outputs": [
        {
          "output_type": "stream",
          "name": "stderr",
          "text": [
            "/usr/local/lib/python3.10/dist-packages/keras/src/backend.py:452: UserWarning: `tf.keras.backend.set_learning_phase` is deprecated and will be removed after 2020-10-11. To update it, simply pass a True/False value to the `training` argument of the `__call__` method of your layer or model.\n",
            "  warnings.warn(\n"
          ]
        }
      ]
    },
    {
      "cell_type": "code",
      "source": [
        "# Visualize SHAP values\n",
        "shap.image_plot(shap_values, -test_images_sample)\n"
      ],
      "metadata": {
        "colab": {
          "base_uri": "https://localhost:8080/",
          "height": 1000
        },
        "id": "DQT9Oqzxuwnn",
        "outputId": "776f7e18-dfb0-4a95-ea2e-8e8f77944875"
      },
      "execution_count": 11,
      "outputs": [
        {
          "output_type": "display_data",
          "data": {
            "text/plain": [
              "<Figure size 600x2750 with 21 Axes>"
            ],
            "image/png": "[encoded data removed]"
          },
          "metadata": {}
        }
      ]
    },
    {
      "cell_type": "code",
      "source": [],
      "metadata": {
        "id": "dj3cYwNmuwuM"
      },
      "execution_count": null,
      "outputs": []
    }
  ],
  "metadata": {
    "kernelspec": {
      "display_name": "Python 3",
      "language": "python",
      "name": "python3"
    },
    "language_info": {
      "codemirror_mode": {
        "name": "ipython",
        "version": 3
      },
      "file_extension": ".py",
      "mimetype": "text/x-python",
      "name": "python",
      "nbconvert_exporter": "python",
      "pygments_lexer": "ipython3",
      "version": "3.12.3"
    },
    "colab": {
      "provenance": []
    }
  },
  "nbformat": 4,
  "nbformat_minor": 0
}